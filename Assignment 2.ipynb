{
 "cells": [
  {
   "cell_type": "code",
   "execution_count": 1,
   "metadata": {},
   "outputs": [],
   "source": [
    "sum=0\n",
    "count=0\n",
    "average=0\n",
    "z=0"
   ]
  },
  {
   "cell_type": "code",
   "execution_count": 2,
   "metadata": {},
   "outputs": [
    {
     "name": "stdout",
     "output_type": "stream",
     "text": [
      "Enter a new number: 3\n",
      "Enter a new number: 5\n",
      "Enter a new number: fdf\n",
      "Invalid input\n",
      "Enter a new number: 8\n",
      "Enter a new number: done\n"
     ]
    }
   ],
   "source": [
    "z=input(\"Enter a new number: \")\n",
    "while z!=\"done\":\n",
    "    try:\n",
    "        z=int(z)\n",
    "        sum=sum+z\n",
    "        count=count+1\n",
    "        z=input(\"Enter a new number: \")\n",
    "    except:\n",
    "        print(\"Invalid input\")\n",
    "        z=input(\"Enter a new number: \")"
   ]
  },
  {
   "cell_type": "code",
   "execution_count": 3,
   "metadata": {},
   "outputs": [
    {
     "name": "stdout",
     "output_type": "stream",
     "text": [
      "Sum=  16\n",
      "Count=  3\n",
      "Average=  5.333333333333333\n"
     ]
    }
   ],
   "source": [
    "print(\"Sum= \",sum)\n",
    "print(\"Count= \",count)\n",
    "print(\"Average= \",sum/count)"
   ]
  },
  {
   "cell_type": "code",
   "execution_count": 9,
   "metadata": {},
   "outputs": [
    {
     "name": "stdout",
     "output_type": "stream",
     "text": [
      "Enter hours: 45\n",
      "Enter rate: 10\n",
      "Pay:  475.0\n"
     ]
    }
   ],
   "source": [
    "hours=input(\"Enter hours: \")\n",
    "rate=input(\"Enter rate: \")\n",
    "hours=float(hours)\n",
    "rate=float(rate)\n",
    "pay=computepay(hours,rate)\n",
    "print(\"Pay: \",pay)\n",
    "def computepay(hours,rate):\n",
    "    if(hours>40):\n",
    "        pay=(40*rate)+(hours-40)*rate*1.5\n",
    "    else:\n",
    "        pay=hours*rate\n",
    "    return pay"
   ]
  },
  {
   "cell_type": "code",
   "execution_count": 23,
   "metadata": {},
   "outputs": [],
   "source": [
    "s=\"X-DSPAM-Confidence: 0.8475\"\n",
    "pos=s.find(\":\")"
   ]
  },
  {
   "cell_type": "code",
   "execution_count": 29,
   "metadata": {},
   "outputs": [
    {
     "name": "stdout",
     "output_type": "stream",
     "text": [
      "Position of colon in string:  18\n"
     ]
    }
   ],
   "source": [
    "print(\"Position of colon in string: \",pos)\n",
    "pos=int(pos)"
   ]
  },
  {
   "cell_type": "code",
   "execution_count": 30,
   "metadata": {},
   "outputs": [
    {
     "name": "stdout",
     "output_type": "stream",
     "text": [
      "Length of strings:  26\n"
     ]
    }
   ],
   "source": [
    "length=len(s)\n",
    "print(\"Length of strings: \",length)\n",
    "length=int(length)"
   ]
  },
  {
   "cell_type": "code",
   "execution_count": 34,
   "metadata": {},
   "outputs": [
    {
     "name": "stdout",
     "output_type": "stream",
     "text": [
      "Sliced string:   0.8475\n"
     ]
    }
   ],
   "source": [
    "decimal=s[pos+1:length]\n",
    "print(\"Sliced string: \",decimal)"
   ]
  },
  {
   "cell_type": "code",
   "execution_count": 35,
   "metadata": {},
   "outputs": [
    {
     "name": "stdout",
     "output_type": "stream",
     "text": [
      "Float number:  0.8475\n"
     ]
    }
   ],
   "source": [
    "decimal=float(decimal)\n",
    "print(\"Float number: \",decimal)"
   ]
  },
  {
   "cell_type": "code",
   "execution_count": null,
   "metadata": {},
   "outputs": [],
   "source": []
  }
 ],
 "metadata": {
  "kernelspec": {
   "display_name": "Python 3",
   "language": "python",
   "name": "python3"
  },
  "language_info": {
   "codemirror_mode": {
    "name": "ipython",
    "version": 3
   },
   "file_extension": ".py",
   "mimetype": "text/x-python",
   "name": "python",
   "nbconvert_exporter": "python",
   "pygments_lexer": "ipython3",
   "version": "3.7.3"
  }
 },
 "nbformat": 4,
 "nbformat_minor": 2
}
